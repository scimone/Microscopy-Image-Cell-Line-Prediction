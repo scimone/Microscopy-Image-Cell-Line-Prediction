{
  "nbformat": 4,
  "nbformat_minor": 0,
  "metadata": {
    "accelerator": "GPU",
    "colab": {
      "name": "ails_challenge_3_k11947652",
      "provenance": [],
      "collapsed_sections": [],
      "machine_shape": "hm"
    },
    "kernelspec": {
      "display_name": "Python 3",
      "name": "python3"
    },
    "language_info": {
      "name": "python"
    },
    "widgets": {
      "application/vnd.jupyter.widget-state+json": {
        "d8faff90ab8143b9b9a994c4f8e6aaef": {
          "model_module": "@jupyter-widgets/controls",
          "model_name": "HBoxModel",
          "state": {
            "_view_name": "HBoxView",
            "_dom_classes": [],
            "_model_name": "HBoxModel",
            "_view_module": "@jupyter-widgets/controls",
            "_model_module_version": "1.5.0",
            "_view_count": null,
            "_view_module_version": "1.5.0",
            "box_style": "",
            "layout": "IPY_MODEL_2e1c32314eda4fd3a9b8dee4dcd6a8a9",
            "_model_module": "@jupyter-widgets/controls",
            "children": [
              "IPY_MODEL_f87b515062a840b98c5e4ff1cc058ed4",
              "IPY_MODEL_7d92d3d6b83345909742782bc7e8c8f3"
            ]
          }
        },
        "2e1c32314eda4fd3a9b8dee4dcd6a8a9": {
          "model_module": "@jupyter-widgets/base",
          "model_name": "LayoutModel",
          "state": {
            "_view_name": "LayoutView",
            "grid_template_rows": null,
            "right": null,
            "justify_content": null,
            "_view_module": "@jupyter-widgets/base",
            "overflow": null,
            "_model_module_version": "1.2.0",
            "_view_count": null,
            "flex_flow": null,
            "width": null,
            "min_width": null,
            "border": null,
            "align_items": null,
            "bottom": null,
            "_model_module": "@jupyter-widgets/base",
            "top": null,
            "grid_column": null,
            "overflow_y": null,
            "overflow_x": null,
            "grid_auto_flow": null,
            "grid_area": null,
            "grid_template_columns": null,
            "flex": null,
            "_model_name": "LayoutModel",
            "justify_items": null,
            "grid_row": null,
            "max_height": null,
            "align_content": null,
            "visibility": null,
            "align_self": null,
            "height": null,
            "min_height": null,
            "padding": null,
            "grid_auto_rows": null,
            "grid_gap": null,
            "max_width": null,
            "order": null,
            "_view_module_version": "1.2.0",
            "grid_template_areas": null,
            "object_position": null,
            "object_fit": null,
            "grid_auto_columns": null,
            "margin": null,
            "display": null,
            "left": null
          }
        },
        "f87b515062a840b98c5e4ff1cc058ed4": {
          "model_module": "@jupyter-widgets/controls",
          "model_name": "FloatProgressModel",
          "state": {
            "_view_name": "ProgressView",
            "style": "IPY_MODEL_c807d58f0bc24e23b556f591b65575ae",
            "_dom_classes": [],
            "description": "100%",
            "_model_name": "FloatProgressModel",
            "bar_style": "success",
            "max": 31519111,
            "_view_module": "@jupyter-widgets/controls",
            "_model_module_version": "1.5.0",
            "value": 31519111,
            "_view_count": null,
            "_view_module_version": "1.5.0",
            "orientation": "horizontal",
            "min": 0,
            "description_tooltip": null,
            "_model_module": "@jupyter-widgets/controls",
            "layout": "IPY_MODEL_a9ea0347d6374664a51cde37e99a4f8c"
          }
        },
        "7d92d3d6b83345909742782bc7e8c8f3": {
          "model_module": "@jupyter-widgets/controls",
          "model_name": "HTMLModel",
          "state": {
            "_view_name": "HTMLView",
            "style": "IPY_MODEL_c5d08bb300e04cd69884954e573c955e",
            "_dom_classes": [],
            "description": "",
            "_model_name": "HTMLModel",
            "placeholder": "​",
            "_view_module": "@jupyter-widgets/controls",
            "_model_module_version": "1.5.0",
            "value": " 30.1M/30.1M [00:01&lt;00:00, 21.7MB/s]",
            "_view_count": null,
            "_view_module_version": "1.5.0",
            "description_tooltip": null,
            "_model_module": "@jupyter-widgets/controls",
            "layout": "IPY_MODEL_82756a300af74791a4708601820a597f"
          }
        },
        "c807d58f0bc24e23b556f591b65575ae": {
          "model_module": "@jupyter-widgets/controls",
          "model_name": "ProgressStyleModel",
          "state": {
            "_view_name": "StyleView",
            "_model_name": "ProgressStyleModel",
            "description_width": "initial",
            "_view_module": "@jupyter-widgets/base",
            "_model_module_version": "1.5.0",
            "_view_count": null,
            "_view_module_version": "1.2.0",
            "bar_color": null,
            "_model_module": "@jupyter-widgets/controls"
          }
        },
        "a9ea0347d6374664a51cde37e99a4f8c": {
          "model_module": "@jupyter-widgets/base",
          "model_name": "LayoutModel",
          "state": {
            "_view_name": "LayoutView",
            "grid_template_rows": null,
            "right": null,
            "justify_content": null,
            "_view_module": "@jupyter-widgets/base",
            "overflow": null,
            "_model_module_version": "1.2.0",
            "_view_count": null,
            "flex_flow": null,
            "width": null,
            "min_width": null,
            "border": null,
            "align_items": null,
            "bottom": null,
            "_model_module": "@jupyter-widgets/base",
            "top": null,
            "grid_column": null,
            "overflow_y": null,
            "overflow_x": null,
            "grid_auto_flow": null,
            "grid_area": null,
            "grid_template_columns": null,
            "flex": null,
            "_model_name": "LayoutModel",
            "justify_items": null,
            "grid_row": null,
            "max_height": null,
            "align_content": null,
            "visibility": null,
            "align_self": null,
            "height": null,
            "min_height": null,
            "padding": null,
            "grid_auto_rows": null,
            "grid_gap": null,
            "max_width": null,
            "order": null,
            "_view_module_version": "1.2.0",
            "grid_template_areas": null,
            "object_position": null,
            "object_fit": null,
            "grid_auto_columns": null,
            "margin": null,
            "display": null,
            "left": null
          }
        },
        "c5d08bb300e04cd69884954e573c955e": {
          "model_module": "@jupyter-widgets/controls",
          "model_name": "DescriptionStyleModel",
          "state": {
            "_view_name": "StyleView",
            "_model_name": "DescriptionStyleModel",
            "description_width": "",
            "_view_module": "@jupyter-widgets/base",
            "_model_module_version": "1.5.0",
            "_view_count": null,
            "_view_module_version": "1.2.0",
            "_model_module": "@jupyter-widgets/controls"
          }
        },
        "82756a300af74791a4708601820a597f": {
          "model_module": "@jupyter-widgets/base",
          "model_name": "LayoutModel",
          "state": {
            "_view_name": "LayoutView",
            "grid_template_rows": null,
            "right": null,
            "justify_content": null,
            "_view_module": "@jupyter-widgets/base",
            "overflow": null,
            "_model_module_version": "1.2.0",
            "_view_count": null,
            "flex_flow": null,
            "width": null,
            "min_width": null,
            "border": null,
            "align_items": null,
            "bottom": null,
            "_model_module": "@jupyter-widgets/base",
            "top": null,
            "grid_column": null,
            "overflow_y": null,
            "overflow_x": null,
            "grid_auto_flow": null,
            "grid_area": null,
            "grid_template_columns": null,
            "flex": null,
            "_model_name": "LayoutModel",
            "justify_items": null,
            "grid_row": null,
            "max_height": null,
            "align_content": null,
            "visibility": null,
            "align_self": null,
            "height": null,
            "min_height": null,
            "padding": null,
            "grid_auto_rows": null,
            "grid_gap": null,
            "max_width": null,
            "order": null,
            "_view_module_version": "1.2.0",
            "grid_template_areas": null,
            "object_position": null,
            "object_fit": null,
            "grid_auto_columns": null,
            "margin": null,
            "display": null,
            "left": null
          }
        }
      }
    }
  },
  "cells": [
    {
      "cell_type": "markdown",
      "metadata": {
        "id": "Vb95HhbiFgxu"
      },
      "source": [
        "# Prerequisites"
      ]
    },
    {
      "cell_type": "markdown",
      "metadata": {
        "id": "T9QVQIMvFITh"
      },
      "source": [
        "### Install & import packages"
      ]
    },
    {
      "cell_type": "code",
      "metadata": {
        "colab": {
          "base_uri": "https://localhost:8080/"
        },
        "id": "7ej06QXiRrJ2",
        "outputId": "e2170d21-3d2d-4063-9333-ab014351b2c1"
      },
      "source": [
        "! pip install efficientnet_pytorch"
      ],
      "execution_count": 40,
      "outputs": [
        {
          "output_type": "stream",
          "text": [
            "Requirement already satisfied: efficientnet_pytorch in /usr/local/lib/python3.7/dist-packages (0.7.1)\n",
            "Requirement already satisfied: torch in /usr/local/lib/python3.7/dist-packages (from efficientnet_pytorch) (1.9.0+cu102)\n",
            "Requirement already satisfied: typing-extensions in /usr/local/lib/python3.7/dist-packages (from torch->efficientnet_pytorch) (3.7.4.3)\n"
          ],
          "name": "stdout"
        }
      ]
    },
    {
      "cell_type": "code",
      "metadata": {
        "id": "P-OTmDeG7zeT"
      },
      "source": [
        "import tarfile\n",
        "import torchvision\n",
        "from torchvision import transforms\n",
        "from PIL import Image\n",
        "from matplotlib import pyplot as plt\n",
        "from tqdm import tqdm, trange\n",
        "import pandas as pd\n",
        "import os\n",
        "import shutil\n",
        "import torch\n",
        "import numpy as np\n",
        "from torch.utils.data import Dataset, DataLoader\n",
        "from efficientnet_pytorch import EfficientNet\n",
        "import torch.nn as nn\n",
        "import torch.nn.functional as F\n",
        "from sklearn.model_selection import train_test_split\n",
        "from sklearn.metrics import balanced_accuracy_score"
      ],
      "execution_count": 5,
      "outputs": []
    },
    {
      "cell_type": "code",
      "metadata": {
        "colab": {
          "base_uri": "https://localhost:8080/"
        },
        "id": "pJjUGYNIevIg",
        "outputId": "04521eae-3bc2-422c-870f-f42f7e6ad9b9"
      },
      "source": [
        "device = torch.device(\"cuda:0\" if torch.cuda.is_available() else \"cpu\")\n",
        "print(device)\n",
        "print(\"Training on: \" + torch.cuda.get_device_name(0))"
      ],
      "execution_count": 6,
      "outputs": [
        {
          "output_type": "stream",
          "text": [
            "cuda:0\n",
            "Training on: Tesla P100-PCIE-16GB\n"
          ],
          "name": "stdout"
        }
      ]
    },
    {
      "cell_type": "markdown",
      "metadata": {
        "id": "O5-p61fIFkj8"
      },
      "source": [
        "### Mount Drive"
      ]
    },
    {
      "cell_type": "code",
      "metadata": {
        "colab": {
          "base_uri": "https://localhost:8080/"
        },
        "id": "JqmPQ8fZAB-T",
        "outputId": "88c336ed-37dd-4325-933e-483e23c79402"
      },
      "source": [
        "from google.colab import drive\n",
        "drive.mount('/content/drive')\n",
        "path = '/content/drive/MyDrive/ails_challenge_3/'"
      ],
      "execution_count": 7,
      "outputs": [
        {
          "output_type": "stream",
          "text": [
            "Drive already mounted at /content/drive; to attempt to forcibly remount, call drive.mount(\"/content/drive\", force_remount=True).\n"
          ],
          "name": "stdout"
        }
      ]
    },
    {
      "cell_type": "markdown",
      "metadata": {
        "id": "3NIKrwk4bi3p"
      },
      "source": [
        "### Unzip folder into temporary storage (loads faster than from google drive)"
      ]
    },
    {
      "cell_type": "code",
      "metadata": {
        "id": "MCENictBrOgh"
      },
      "source": [
        "# training data\n",
        "tar = tarfile.open(path + \"images_train.tar\")\n",
        "tar.extractall()\n",
        "tar.close()\n",
        "\n",
        "# submission data\n",
        "tar = tarfile.open(path + \"images_test.tar\")\n",
        "tar.extractall()\n",
        "tar.close()"
      ],
      "execution_count": 8,
      "outputs": []
    },
    {
      "cell_type": "markdown",
      "metadata": {
        "id": "yR_SQvZsjs0y"
      },
      "source": [
        "# Utility Functions"
      ]
    },
    {
      "cell_type": "code",
      "metadata": {
        "id": "p0AkQt_yjwbP"
      },
      "source": [
        "def plot_metrics(train_errors, valid_errors):\n",
        "  x = np.arange(1, len(train_errors)+1)\n",
        "  fig = plt.figure(figsize=(20,5))\n",
        "  ax = fig.add_subplot(131, label=\"train\")\n",
        "  ax.plot(x, train_errors, color=\"C0\", label=\"training loss\")\n",
        "  ax.plot(x, valid_errors, color=\"C1\", label=\"validation loss\")\n",
        "  ax.set_ylabel(\"Loss\")\n",
        "  ax.set_xlabel(\"Epoch\")        \n",
        "  ax.xaxis.grid(False)  \n",
        "  ax.legend()\n",
        "\n",
        "  plt.show()"
      ],
      "execution_count": 9,
      "outputs": []
    },
    {
      "cell_type": "code",
      "metadata": {
        "id": "axFZard1Hdwd"
      },
      "source": [
        "# code taken from https://forums.fast.ai/t/normalizing-your-dataset/49799\n",
        "def online_mean_and_std(loader):\n",
        "  \"\"\"Compute the mean and std in an online fashion\n",
        "\n",
        "      Var[x] = E[X^2] - E^2[X]\n",
        "  \"\"\"\n",
        "  cnt = 0\n",
        "  fst_moment = torch.empty(3)\n",
        "  snd_moment = torch.empty(3)\n",
        "\n",
        "  for images, _ in loader:\n",
        "\n",
        "    b, c, h, w = images.shape\n",
        "    nb_pixels = b * h * w\n",
        "    sum_ = torch.sum(images, dim=[0, 2, 3])\n",
        "    sum_of_square = torch.sum(images ** 2, dim=[0, 2, 3])\n",
        "    fst_moment = (cnt * fst_moment + sum_) / (cnt + nb_pixels)\n",
        "    snd_moment = (cnt * snd_moment + sum_of_square) / (cnt + nb_pixels)\n",
        "\n",
        "    cnt += nb_pixels\n",
        "\n",
        "  return fst_moment, torch.sqrt(snd_moment - fst_moment ** 2)"
      ],
      "execution_count": 10,
      "outputs": []
    },
    {
      "cell_type": "markdown",
      "metadata": {
        "id": "jtCSLu5mWANq"
      },
      "source": [
        "# Data"
      ]
    },
    {
      "cell_type": "code",
      "metadata": {
        "id": "GI5lhFMQlxHd"
      },
      "source": [
        "class ImageDataset(Dataset):\n",
        "\n",
        "  def __init__(self, path, transform=None, train=True, submission=False):\n",
        "    super().__init__()\n",
        "    self.path = path\n",
        "    self.transform = transform\n",
        "    self.train = train\n",
        "    self.file_ids = []\n",
        "    if submission:\n",
        "      self.folder = 'images_test/'\n",
        "      self.start_id, self.end_id = 9633, int(len(os.listdir('images_test')) / 3) + 9633\n",
        "      self.images, self.labels = self.get_images(), 0 # labels are not needed here\n",
        "    else:\n",
        "      self.folder = 'images_train/'\n",
        "      self.start_id, self.end_id = 1, int(len(os.listdir('images_train')) / 3) + 1\n",
        "      self.images, self.labels = self.train_test_split(self.get_images(), self.get_labels())\n",
        "\n",
        "  def load_image_data(self, file_id):\n",
        "    image_channels = []\n",
        "    colors = ['yellow', 'red', 'blue']\n",
        "    for color in colors:\n",
        "      n_digits = len(str(file_id))\n",
        "      n_zeros = 5 - n_digits\n",
        "      with Image.open(self.folder + '{}{}_{}.png'.format('0'*n_zeros, file_id, color)) as img:\n",
        "        channel = img.convert('L')\n",
        "      image_channels.append(np.asarray(channel))\n",
        "    return image_channels\n",
        "       \n",
        "  def get_images(self):\n",
        "    images = []\n",
        "    for file_id in trange(self.start_id, self.end_id, position=0):\n",
        "      image_channels = self.load_image_data(file_id)\n",
        "      image = self.merge_channels(image_channels)\n",
        "      images.append(image)\n",
        "      self.file_ids.append(file_id)\n",
        "    return images\n",
        "\n",
        "  def merge_channels(self, image_channels):\n",
        "    rgb = np.dstack((image_channels[0], image_channels[1], image_channels[2])) \n",
        "    return rgb\n",
        "\n",
        "  def get_labels(self):\n",
        "    labels = pd.read_csv(self.path + 'y_train.csv')\n",
        "    unique_labels = list(labels.cell_line.unique())\n",
        "    tokenized_unique_labels = list(range(len(unique_labels)))\n",
        "    self.label2token = dict(zip(unique_labels, tokenized_unique_labels))\n",
        "    self.token2label = dict(zip(tokenized_unique_labels, unique_labels))\n",
        "    labels = list(labels.cell_line)\n",
        "    tokenized_labels = [self.label2token[label] for label in labels]\n",
        "    return tokenized_labels\n",
        "\n",
        "  def train_test_split(self, images, labels):\n",
        "    images_train, images_test, labels_train, labels_test = train_test_split(images, labels, stratify=labels, shuffle=True, test_size=0.3, random_state=42)\n",
        "    if self.train:\n",
        "      return images_train, labels_train\n",
        "    else:\n",
        "      return images_test, labels_test\n",
        "\n",
        "  def __getitem__(self, idx):\n",
        "    image = self.images[idx]\n",
        "    label = self.labels[idx]\n",
        "    if self.transform:\n",
        "      image = self.transform(image)\n",
        "    return (image, label)\n",
        "\n",
        "  def __len__(self):\n",
        "    return len(self.images)\n"
      ],
      "execution_count": 19,
      "outputs": []
    },
    {
      "cell_type": "markdown",
      "metadata": {
        "id": "1U6cGlzE8VgB"
      },
      "source": [
        "### Get mean and std of dataset"
      ]
    },
    {
      "cell_type": "code",
      "metadata": {
        "colab": {
          "base_uri": "https://localhost:8080/"
        },
        "id": "0DBa8lDtHHOi",
        "outputId": "03e44465-be64-4f8c-b00b-9b5697a12b4b"
      },
      "source": [
        "# create a dataloader to get mean and std for normalization\n",
        "transform = transforms.Compose([\n",
        "                                transforms.ToTensor(),\n",
        "                                transforms.Resize(224),\n",
        "                                ])\n",
        "data = ImageDataset(path, transform, train=True)\n",
        "dataloader = DataLoader(data, batch_size=1, shuffle=False)\n",
        "mean, std = online_mean_and_std(dataloader)\n",
        "print(mean, std)"
      ],
      "execution_count": 12,
      "outputs": [
        {
          "output_type": "stream",
          "text": [
            "100%|██████████| 9632/9632 [00:05<00:00, 1750.24it/s]\n"
          ],
          "name": "stderr"
        },
        {
          "output_type": "stream",
          "text": [
            "tensor([0.1474, 0.1322, 0.1288]) tensor([0.1532, 0.1565, 0.2173])\n"
          ],
          "name": "stdout"
        }
      ]
    },
    {
      "cell_type": "markdown",
      "metadata": {
        "id": "tb9x5K638f5t"
      },
      "source": [
        "### Create train and validation dataset"
      ]
    },
    {
      "cell_type": "code",
      "metadata": {
        "colab": {
          "base_uri": "https://localhost:8080/"
        },
        "id": "IWnRQp-u5UNc",
        "outputId": "000a2742-e77b-4030-acfe-e83e35fcf864"
      },
      "source": [
        "# create train and validation set with the obtained normalization values\n",
        "transform_train = transforms.Compose([\n",
        "                                transforms.ToTensor(),\n",
        "                                transforms.Resize(224),\n",
        "                                transforms.RandomResizedCrop(224, scale=(0.7, 1.0)),\n",
        "                                transforms.RandomVerticalFlip(0.6),\n",
        "                                transforms.RandomHorizontalFlip(0.6),\n",
        "                                transforms.RandomRotation(degrees=45),\n",
        "                                transforms.Normalize(mean, std)\n",
        "                                ])\n",
        "\n",
        "transform_val = transforms.Compose([\n",
        "                                transforms.ToTensor(),\n",
        "                                transforms.Resize(224),\n",
        "                                transforms.Normalize(mean, std)\n",
        "                                ])\n",
        "\n",
        "data_train = ImageDataset(path, transform_train, train=True)\n",
        "data_val = ImageDataset(path, transform_val, train=False)"
      ],
      "execution_count": 20,
      "outputs": [
        {
          "output_type": "stream",
          "text": [
            "100%|██████████| 9632/9632 [00:05<00:00, 1880.38it/s]\n",
            "100%|██████████| 9632/9632 [00:05<00:00, 1855.46it/s]\n"
          ],
          "name": "stderr"
        }
      ]
    },
    {
      "cell_type": "markdown",
      "metadata": {
        "id": "G4I3xxPEbY2n"
      },
      "source": [
        "### Visualize Data"
      ]
    },
    {
      "cell_type": "code",
      "metadata": {
        "colab": {
          "base_uri": "https://localhost:8080/",
          "height": 299
        },
        "id": "4LZ1gMhyDM8P",
        "outputId": "f8e5dfc7-4899-4638-8bee-c1985007b243"
      },
      "source": [
        "plt.hist(data_train.labels + data_val.labels, 9);\n",
        "plt.title('label distribution in train & val data')"
      ],
      "execution_count": 52,
      "outputs": [
        {
          "output_type": "execute_result",
          "data": {
            "text/plain": [
              "Text(0.5, 1.0, 'label distribution in train & val data')"
            ]
          },
          "metadata": {
            "tags": []
          },
          "execution_count": 52
        },
        {
          "output_type": "display_data",
          "data": {
            "image/png": "[encoded data removed]",
            "text/plain": [
              "<Figure size 432x288 with 1 Axes>"
            ]
          },
          "metadata": {
            "tags": [],
            "needs_background": "light"
          }
        }
      ]
    },
    {
      "cell_type": "code",
      "metadata": {
        "colab": {
          "base_uri": "https://localhost:8080/",
          "height": 235
        },
        "id": "XmzkhvR7GD-s",
        "outputId": "0ab39971-b897-4514-f22a-f3a5851196cb"
      },
      "source": [
        "# check images\n",
        "f, (ax1, ax2) = plt.subplots(1, 2)\n",
        "ax1.imshow(data_train.images[0]);\n",
        "ax1.set_title('original image');\n",
        "ax2.imshow(data_train[0][0].permute(1,2,0));\n",
        "ax2.set_title('augmented image');"
      ],
      "execution_count": 27,
      "outputs": [
        {
          "output_type": "stream",
          "text": [
            "Clipping input data to the valid range for imshow with RGB data ([0..1] for floats or [0..255] for integers).\n"
          ],
          "name": "stderr"
        },
        {
          "output_type": "display_data",
          "data": {
            "image/png": "[encoded data removed]",
            "text/plain": [
              "<Figure size 432x288 with 2 Axes>"
            ]
          },
          "metadata": {
            "tags": [],
            "needs_background": "light"
          }
        }
      ]
    },
    {
      "cell_type": "markdown",
      "metadata": {
        "id": "2VjZy3tWT9cG"
      },
      "source": [
        "# Network"
      ]
    },
    {
      "cell_type": "code",
      "metadata": {
        "id": "9CEGb0vjQbAX"
      },
      "source": [
        "class CNN(nn.Module):\n",
        "\n",
        "  def __init__(self):\n",
        "    super(CNN, self).__init__()\n",
        "    self.features = EfficientNet.from_pretrained('efficientnet-b1', num_classes=9)\n",
        "\n",
        "  def forward(self, x):\n",
        "    x = self.features(x)\n",
        "    return x"
      ],
      "execution_count": 41,
      "outputs": []
    },
    {
      "cell_type": "markdown",
      "metadata": {
        "id": "BznZmCwT78FN"
      },
      "source": [
        "### Take a look at the network layers"
      ]
    },
    {
      "cell_type": "code",
      "metadata": {
        "colab": {
          "base_uri": "https://localhost:8080/"
        },
        "id": "1zI333zJt4gX",
        "outputId": "edcee1af-e710-40eb-e769-26286098c89d"
      },
      "source": [
        "network = CNN()\n",
        "print(network)"
      ],
      "execution_count": 42,
      "outputs": [
        {
          "output_type": "stream",
          "text": [
            "Loaded pretrained weights for efficientnet-b1\n",
            "CNN(\n",
            "  (features): EfficientNet(\n",
            "    (_conv_stem): Conv2dStaticSamePadding(\n",
            "      3, 32, kernel_size=(3, 3), stride=(2, 2), bias=False\n",
            "      (static_padding): ZeroPad2d(padding=(0, 1, 0, 1), value=0.0)\n",
            "    )\n",
            "    (_bn0): BatchNorm2d(32, eps=0.001, momentum=0.010000000000000009, affine=True, track_running_stats=True)\n",
            "    (_blocks): ModuleList(\n",
            "      (0): MBConvBlock(\n",
            "        (_depthwise_conv): Conv2dStaticSamePadding(\n",
            "          32, 32, kernel_size=(3, 3), stride=[1, 1], groups=32, bias=False\n",
            "          (static_padding): ZeroPad2d(padding=(1, 1, 1, 1), value=0.0)\n",
            "        )\n",
            "        (_bn1): BatchNorm2d(32, eps=0.001, momentum=0.010000000000000009, affine=True, track_running_stats=True)\n",
            "        (_se_reduce): Conv2dStaticSamePadding(\n",
            "          32, 8, kernel_size=(1, 1), stride=(1, 1)\n",
            "          (static_padding): Identity()\n",
            "        )\n",
            "        (_se_expand): Conv2dStaticSamePadding(\n",
            "          8, 32, kernel_size=(1, 1), stride=(1, 1)\n",
            "          (static_padding): Identity()\n",
            "        )\n",
            "        (_project_conv): Conv2dStaticSamePadding(\n",
            "          32, 16, kernel_size=(1, 1), stride=(1, 1), bias=False\n",
            "          (static_padding): Identity()\n",
            "        )\n",
            "        (_bn2): BatchNorm2d(16, eps=0.001, momentum=0.010000000000000009, affine=True, track_running_stats=True)\n",
            "        (_swish): MemoryEfficientSwish()\n",
            "      )\n",
            "      (1): MBConvBlock(\n",
            "        (_depthwise_conv): Conv2dStaticSamePadding(\n",
            "          16, 16, kernel_size=(3, 3), stride=(1, 1), groups=16, bias=False\n",
            "          (static_padding): ZeroPad2d(padding=(1, 1, 1, 1), value=0.0)\n",
            "        )\n",
            "        (_bn1): BatchNorm2d(16, eps=0.001, momentum=0.010000000000000009, affine=True, track_running_stats=True)\n",
            "        (_se_reduce): Conv2dStaticSamePadding(\n",
            "          16, 4, kernel_size=(1, 1), stride=(1, 1)\n",
            "          (static_padding): Identity()\n",
            "        )\n",
            "        (_se_expand): Conv2dStaticSamePadding(\n",
            "          4, 16, kernel_size=(1, 1), stride=(1, 1)\n",
            "          (static_padding): Identity()\n",
            "        )\n",
            "        (_project_conv): Conv2dStaticSamePadding(\n",
            "          16, 16, kernel_size=(1, 1), stride=(1, 1), bias=False\n",
            "          (static_padding): Identity()\n",
            "        )\n",
            "        (_bn2): BatchNorm2d(16, eps=0.001, momentum=0.010000000000000009, affine=True, track_running_stats=True)\n",
            "        (_swish): MemoryEfficientSwish()\n",
            "      )\n",
            "      (2): MBConvBlock(\n",
            "        (_expand_conv): Conv2dStaticSamePadding(\n",
            "          16, 96, kernel_size=(1, 1), stride=(1, 1), bias=False\n",
            "          (static_padding): Identity()\n",
            "        )\n",
            "        (_bn0): BatchNorm2d(96, eps=0.001, momentum=0.010000000000000009, affine=True, track_running_stats=True)\n",
            "        (_depthwise_conv): Conv2dStaticSamePadding(\n",
            "          96, 96, kernel_size=(3, 3), stride=[2, 2], groups=96, bias=False\n",
            "          (static_padding): ZeroPad2d(padding=(0, 1, 0, 1), value=0.0)\n",
            "        )\n",
            "        (_bn1): BatchNorm2d(96, eps=0.001, momentum=0.010000000000000009, affine=True, track_running_stats=True)\n",
            "        (_se_reduce): Conv2dStaticSamePadding(\n",
            "          96, 4, kernel_size=(1, 1), stride=(1, 1)\n",
            "          (static_padding): Identity()\n",
            "        )\n",
            "        (_se_expand): Conv2dStaticSamePadding(\n",
            "          4, 96, kernel_size=(1, 1), stride=(1, 1)\n",
            "          (static_padding): Identity()\n",
            "        )\n",
            "        (_project_conv): Conv2dStaticSamePadding(\n",
            "          96, 24, kernel_size=(1, 1), stride=(1, 1), bias=False\n",
            "          (static_padding): Identity()\n",
            "        )\n",
            "        (_bn2): BatchNorm2d(24, eps=0.001, momentum=0.010000000000000009, affine=True, track_running_stats=True)\n",
            "        (_swish): MemoryEfficientSwish()\n",
            "      )\n",
            "      (3): MBConvBlock(\n",
            "        (_expand_conv): Conv2dStaticSamePadding(\n",
            "          24, 144, kernel_size=(1, 1), stride=(1, 1), bias=False\n",
            "          (static_padding): Identity()\n",
            "        )\n",
            "        (_bn0): BatchNorm2d(144, eps=0.001, momentum=0.010000000000000009, affine=True, track_running_stats=True)\n",
            "        (_depthwise_conv): Conv2dStaticSamePadding(\n",
            "          144, 144, kernel_size=(3, 3), stride=(1, 1), groups=144, bias=False\n",
            "          (static_padding): ZeroPad2d(padding=(1, 1, 1, 1), value=0.0)\n",
            "        )\n",
            "        (_bn1): BatchNorm2d(144, eps=0.001, momentum=0.010000000000000009, affine=True, track_running_stats=True)\n",
            "        (_se_reduce): Conv2dStaticSamePadding(\n",
            "          144, 6, kernel_size=(1, 1), stride=(1, 1)\n",
            "          (static_padding): Identity()\n",
            "        )\n",
            "        (_se_expand): Conv2dStaticSamePadding(\n",
            "          6, 144, kernel_size=(1, 1), stride=(1, 1)\n",
            "          (static_padding): Identity()\n",
            "        )\n",
            "        (_project_conv): Conv2dStaticSamePadding(\n",
            "          144, 24, kernel_size=(1, 1), stride=(1, 1), bias=False\n",
            "          (static_padding): Identity()\n",
            "        )\n",
            "        (_bn2): BatchNorm2d(24, eps=0.001, momentum=0.010000000000000009, affine=True, track_running_stats=True)\n",
            "        (_swish): MemoryEfficientSwish()\n",
            "      )\n",
            "      (4): MBConvBlock(\n",
            "        (_expand_conv): Conv2dStaticSamePadding(\n",
            "          24, 144, kernel_size=(1, 1), stride=(1, 1), bias=False\n",
            "          (static_padding): Identity()\n",
            "        )\n",
            "        (_bn0): BatchNorm2d(144, eps=0.001, momentum=0.010000000000000009, affine=True, track_running_stats=True)\n",
            "        (_depthwise_conv): Conv2dStaticSamePadding(\n",
            "          144, 144, kernel_size=(3, 3), stride=(1, 1), groups=144, bias=False\n",
            "          (static_padding): ZeroPad2d(padding=(1, 1, 1, 1), value=0.0)\n",
            "        )\n",
            "        (_bn1): BatchNorm2d(144, eps=0.001, momentum=0.010000000000000009, affine=True, track_running_stats=True)\n",
            "        (_se_reduce): Conv2dStaticSamePadding(\n",
            "          144, 6, kernel_size=(1, 1), stride=(1, 1)\n",
            "          (static_padding): Identity()\n",
            "        )\n",
            "        (_se_expand): Conv2dStaticSamePadding(\n",
            "          6, 144, kernel_size=(1, 1), stride=(1, 1)\n",
            "          (static_padding): Identity()\n",
            "        )\n",
            "        (_project_conv): Conv2dStaticSamePadding(\n",
            "          144, 24, kernel_size=(1, 1), stride=(1, 1), bias=False\n",
            "          (static_padding): Identity()\n",
            "        )\n",
            "        (_bn2): BatchNorm2d(24, eps=0.001, momentum=0.010000000000000009, affine=True, track_running_stats=True)\n",
            "        (_swish): MemoryEfficientSwish()\n",
            "      )\n",
            "      (5): MBConvBlock(\n",
            "        (_expand_conv): Conv2dStaticSamePadding(\n",
            "          24, 144, kernel_size=(1, 1), stride=(1, 1), bias=False\n",
            "          (static_padding): Identity()\n",
            "        )\n",
            "        (_bn0): BatchNorm2d(144, eps=0.001, momentum=0.010000000000000009, affine=True, track_running_stats=True)\n",
            "        (_depthwise_conv): Conv2dStaticSamePadding(\n",
            "          144, 144, kernel_size=(5, 5), stride=[2, 2], groups=144, bias=False\n",
            "          (static_padding): ZeroPad2d(padding=(1, 2, 1, 2), value=0.0)\n",
            "        )\n",
            "        (_bn1): BatchNorm2d(144, eps=0.001, momentum=0.010000000000000009, affine=True, track_running_stats=True)\n",
            "        (_se_reduce): Conv2dStaticSamePadding(\n",
            "          144, 6, kernel_size=(1, 1), stride=(1, 1)\n",
            "          (static_padding): Identity()\n",
            "        )\n",
            "        (_se_expand): Conv2dStaticSamePadding(\n",
            "          6, 144, kernel_size=(1, 1), stride=(1, 1)\n",
            "          (static_padding): Identity()\n",
            "        )\n",
            "        (_project_conv): Conv2dStaticSamePadding(\n",
            "          144, 40, kernel_size=(1, 1), stride=(1, 1), bias=False\n",
            "          (static_padding): Identity()\n",
            "        )\n",
            "        (_bn2): BatchNorm2d(40, eps=0.001, momentum=0.010000000000000009, affine=True, track_running_stats=True)\n",
            "        (_swish): MemoryEfficientSwish()\n",
            "      )\n",
            "      (6): MBConvBlock(\n",
            "        (_expand_conv): Conv2dStaticSamePadding(\n",
            "          40, 240, kernel_size=(1, 1), stride=(1, 1), bias=False\n",
            "          (static_padding): Identity()\n",
            "        )\n",
            "        (_bn0): BatchNorm2d(240, eps=0.001, momentum=0.010000000000000009, affine=True, track_running_stats=True)\n",
            "        (_depthwise_conv): Conv2dStaticSamePadding(\n",
            "          240, 240, kernel_size=(5, 5), stride=(1, 1), groups=240, bias=False\n",
            "          (static_padding): ZeroPad2d(padding=(2, 2, 2, 2), value=0.0)\n",
            "        )\n",
            "        (_bn1): BatchNorm2d(240, eps=0.001, momentum=0.010000000000000009, affine=True, track_running_stats=True)\n",
            "        (_se_reduce): Conv2dStaticSamePadding(\n",
            "          240, 10, kernel_size=(1, 1), stride=(1, 1)\n",
            "          (static_padding): Identity()\n",
            "        )\n",
            "        (_se_expand): Conv2dStaticSamePadding(\n",
            "          10, 240, kernel_size=(1, 1), stride=(1, 1)\n",
            "          (static_padding): Identity()\n",
            "        )\n",
            "        (_project_conv): Conv2dStaticSamePadding(\n",
            "          240, 40, kernel_size=(1, 1), stride=(1, 1), bias=False\n",
            "          (static_padding): Identity()\n",
            "        )\n",
            "        (_bn2): BatchNorm2d(40, eps=0.001, momentum=0.010000000000000009, affine=True, track_running_stats=True)\n",
            "        (_swish): MemoryEfficientSwish()\n",
            "      )\n",
            "      (7): MBConvBlock(\n",
            "        (_expand_conv): Conv2dStaticSamePadding(\n",
            "          40, 240, kernel_size=(1, 1), stride=(1, 1), bias=False\n",
            "          (static_padding): Identity()\n",
            "        )\n",
            "        (_bn0): BatchNorm2d(240, eps=0.001, momentum=0.010000000000000009, affine=True, track_running_stats=True)\n",
            "        (_depthwise_conv): Conv2dStaticSamePadding(\n",
            "          240, 240, kernel_size=(5, 5), stride=(1, 1), groups=240, bias=False\n",
            "          (static_padding): ZeroPad2d(padding=(2, 2, 2, 2), value=0.0)\n",
            "        )\n",
            "        (_bn1): BatchNorm2d(240, eps=0.001, momentum=0.010000000000000009, affine=True, track_running_stats=True)\n",
            "        (_se_reduce): Conv2dStaticSamePadding(\n",
            "          240, 10, kernel_size=(1, 1), stride=(1, 1)\n",
            "          (static_padding): Identity()\n",
            "        )\n",
            "        (_se_expand): Conv2dStaticSamePadding(\n",
            "          10, 240, kernel_size=(1, 1), stride=(1, 1)\n",
            "          (static_padding): Identity()\n",
            "        )\n",
            "        (_project_conv): Conv2dStaticSamePadding(\n",
            "          240, 40, kernel_size=(1, 1), stride=(1, 1), bias=False\n",
            "          (static_padding): Identity()\n",
            "        )\n",
            "        (_bn2): BatchNorm2d(40, eps=0.001, momentum=0.010000000000000009, affine=True, track_running_stats=True)\n",
            "        (_swish): MemoryEfficientSwish()\n",
            "      )\n",
            "      (8): MBConvBlock(\n",
            "        (_expand_conv): Conv2dStaticSamePadding(\n",
            "          40, 240, kernel_size=(1, 1), stride=(1, 1), bias=False\n",
            "          (static_padding): Identity()\n",
            "        )\n",
            "        (_bn0): BatchNorm2d(240, eps=0.001, momentum=0.010000000000000009, affine=True, track_running_stats=True)\n",
            "        (_depthwise_conv): Conv2dStaticSamePadding(\n",
            "          240, 240, kernel_size=(3, 3), stride=[2, 2], groups=240, bias=False\n",
            "          (static_padding): ZeroPad2d(padding=(0, 1, 0, 1), value=0.0)\n",
            "        )\n",
            "        (_bn1): BatchNorm2d(240, eps=0.001, momentum=0.010000000000000009, affine=True, track_running_stats=True)\n",
            "        (_se_reduce): Conv2dStaticSamePadding(\n",
            "          240, 10, kernel_size=(1, 1), stride=(1, 1)\n",
            "          (static_padding): Identity()\n",
            "        )\n",
            "        (_se_expand): Conv2dStaticSamePadding(\n",
            "          10, 240, kernel_size=(1, 1), stride=(1, 1)\n",
            "          (static_padding): Identity()\n",
            "        )\n",
            "        (_project_conv): Conv2dStaticSamePadding(\n",
            "          240, 80, kernel_size=(1, 1), stride=(1, 1), bias=False\n",
            "          (static_padding): Identity()\n",
            "        )\n",
            "        (_bn2): BatchNorm2d(80, eps=0.001, momentum=0.010000000000000009, affine=True, track_running_stats=True)\n",
            "        (_swish): MemoryEfficientSwish()\n",
            "      )\n",
            "      (9): MBConvBlock(\n",
            "        (_expand_conv): Conv2dStaticSamePadding(\n",
            "          80, 480, kernel_size=(1, 1), stride=(1, 1), bias=False\n",
            "          (static_padding): Identity()\n",
            "        )\n",
            "        (_bn0): BatchNorm2d(480, eps=0.001, momentum=0.010000000000000009, affine=True, track_running_stats=True)\n",
            "        (_depthwise_conv): Conv2dStaticSamePadding(\n",
            "          480, 480, kernel_size=(3, 3), stride=(1, 1), groups=480, bias=False\n",
            "          (static_padding): ZeroPad2d(padding=(1, 1, 1, 1), value=0.0)\n",
            "        )\n",
            "        (_bn1): BatchNorm2d(480, eps=0.001, momentum=0.010000000000000009, affine=True, track_running_stats=True)\n",
            "        (_se_reduce): Conv2dStaticSamePadding(\n",
            "          480, 20, kernel_size=(1, 1), stride=(1, 1)\n",
            "          (static_padding): Identity()\n",
            "        )\n",
            "        (_se_expand): Conv2dStaticSamePadding(\n",
            "          20, 480, kernel_size=(1, 1), stride=(1, 1)\n",
            "          (static_padding): Identity()\n",
            "        )\n",
            "        (_project_conv): Conv2dStaticSamePadding(\n",
            "          480, 80, kernel_size=(1, 1), stride=(1, 1), bias=False\n",
            "          (static_padding): Identity()\n",
            "        )\n",
            "        (_bn2): BatchNorm2d(80, eps=0.001, momentum=0.010000000000000009, affine=True, track_running_stats=True)\n",
            "        (_swish): MemoryEfficientSwish()\n",
            "      )\n",
            "      (10): MBConvBlock(\n",
            "        (_expand_conv): Conv2dStaticSamePadding(\n",
            "          80, 480, kernel_size=(1, 1), stride=(1, 1), bias=False\n",
            "          (static_padding): Identity()\n",
            "        )\n",
            "        (_bn0): BatchNorm2d(480, eps=0.001, momentum=0.010000000000000009, affine=True, track_running_stats=True)\n",
            "        (_depthwise_conv): Conv2dStaticSamePadding(\n",
            "          480, 480, kernel_size=(3, 3), stride=(1, 1), groups=480, bias=False\n",
            "          (static_padding): ZeroPad2d(padding=(1, 1, 1, 1), value=0.0)\n",
            "        )\n",
            "        (_bn1): BatchNorm2d(480, eps=0.001, momentum=0.010000000000000009, affine=True, track_running_stats=True)\n",
            "        (_se_reduce): Conv2dStaticSamePadding(\n",
            "          480, 20, kernel_size=(1, 1), stride=(1, 1)\n",
            "          (static_padding): Identity()\n",
            "        )\n",
            "        (_se_expand): Conv2dStaticSamePadding(\n",
            "          20, 480, kernel_size=(1, 1), stride=(1, 1)\n",
            "          (static_padding): Identity()\n",
            "        )\n",
            "        (_project_conv): Conv2dStaticSamePadding(\n",
            "          480, 80, kernel_size=(1, 1), stride=(1, 1), bias=False\n",
            "          (static_padding): Identity()\n",
            "        )\n",
            "        (_bn2): BatchNorm2d(80, eps=0.001, momentum=0.010000000000000009, affine=True, track_running_stats=True)\n",
            "        (_swish): MemoryEfficientSwish()\n",
            "      )\n",
            "      (11): MBConvBlock(\n",
            "        (_expand_conv): Conv2dStaticSamePadding(\n",
            "          80, 480, kernel_size=(1, 1), stride=(1, 1), bias=False\n",
            "          (static_padding): Identity()\n",
            "        )\n",
            "        (_bn0): BatchNorm2d(480, eps=0.001, momentum=0.010000000000000009, affine=True, track_running_stats=True)\n",
            "        (_depthwise_conv): Conv2dStaticSamePadding(\n",
            "          480, 480, kernel_size=(3, 3), stride=(1, 1), groups=480, bias=False\n",
            "          (static_padding): ZeroPad2d(padding=(1, 1, 1, 1), value=0.0)\n",
            "        )\n",
            "        (_bn1): BatchNorm2d(480, eps=0.001, momentum=0.010000000000000009, affine=True, track_running_stats=True)\n",
            "        (_se_reduce): Conv2dStaticSamePadding(\n",
            "          480, 20, kernel_size=(1, 1), stride=(1, 1)\n",
            "          (static_padding): Identity()\n",
            "        )\n",
            "        (_se_expand): Conv2dStaticSamePadding(\n",
            "          20, 480, kernel_size=(1, 1), stride=(1, 1)\n",
            "          (static_padding): Identity()\n",
            "        )\n",
            "        (_project_conv): Conv2dStaticSamePadding(\n",
            "          480, 80, kernel_size=(1, 1), stride=(1, 1), bias=False\n",
            "          (static_padding): Identity()\n",
            "        )\n",
            "        (_bn2): BatchNorm2d(80, eps=0.001, momentum=0.010000000000000009, affine=True, track_running_stats=True)\n",
            "        (_swish): MemoryEfficientSwish()\n",
            "      )\n",
            "      (12): MBConvBlock(\n",
            "        (_expand_conv): Conv2dStaticSamePadding(\n",
            "          80, 480, kernel_size=(1, 1), stride=(1, 1), bias=False\n",
            "          (static_padding): Identity()\n",
            "        )\n",
            "        (_bn0): BatchNorm2d(480, eps=0.001, momentum=0.010000000000000009, affine=True, track_running_stats=True)\n",
            "        (_depthwise_conv): Conv2dStaticSamePadding(\n",
            "          480, 480, kernel_size=(5, 5), stride=[1, 1], groups=480, bias=False\n",
            "          (static_padding): ZeroPad2d(padding=(2, 2, 2, 2), value=0.0)\n",
            "        )\n",
            "        (_bn1): BatchNorm2d(480, eps=0.001, momentum=0.010000000000000009, affine=True, track_running_stats=True)\n",
            "        (_se_reduce): Conv2dStaticSamePadding(\n",
            "          480, 20, kernel_size=(1, 1), stride=(1, 1)\n",
            "          (static_padding): Identity()\n",
            "        )\n",
            "        (_se_expand): Conv2dStaticSamePadding(\n",
            "          20, 480, kernel_size=(1, 1), stride=(1, 1)\n",
            "          (static_padding): Identity()\n",
            "        )\n",
            "        (_project_conv): Conv2dStaticSamePadding(\n",
            "          480, 112, kernel_size=(1, 1), stride=(1, 1), bias=False\n",
            "          (static_padding): Identity()\n",
            "        )\n",
            "        (_bn2): BatchNorm2d(112, eps=0.001, momentum=0.010000000000000009, affine=True, track_running_stats=True)\n",
            "        (_swish): MemoryEfficientSwish()\n",
            "      )\n",
            "      (13): MBConvBlock(\n",
            "        (_expand_conv): Conv2dStaticSamePadding(\n",
            "          112, 672, kernel_size=(1, 1), stride=(1, 1), bias=False\n",
            "          (static_padding): Identity()\n",
            "        )\n",
            "        (_bn0): BatchNorm2d(672, eps=0.001, momentum=0.010000000000000009, affine=True, track_running_stats=True)\n",
            "        (_depthwise_conv): Conv2dStaticSamePadding(\n",
            "          672, 672, kernel_size=(5, 5), stride=(1, 1), groups=672, bias=False\n",
            "          (static_padding): ZeroPad2d(padding=(2, 2, 2, 2), value=0.0)\n",
            "        )\n",
            "        (_bn1): BatchNorm2d(672, eps=0.001, momentum=0.010000000000000009, affine=True, track_running_stats=True)\n",
            "        (_se_reduce): Conv2dStaticSamePadding(\n",
            "          672, 28, kernel_size=(1, 1), stride=(1, 1)\n",
            "          (static_padding): Identity()\n",
            "        )\n",
            "        (_se_expand): Conv2dStaticSamePadding(\n",
            "          28, 672, kernel_size=(1, 1), stride=(1, 1)\n",
            "          (static_padding): Identity()\n",
            "        )\n",
            "        (_project_conv): Conv2dStaticSamePadding(\n",
            "          672, 112, kernel_size=(1, 1), stride=(1, 1), bias=False\n",
            "          (static_padding): Identity()\n",
            "        )\n",
            "        (_bn2): BatchNorm2d(112, eps=0.001, momentum=0.010000000000000009, affine=True, track_running_stats=True)\n",
            "        (_swish): MemoryEfficientSwish()\n",
            "      )\n",
            "      (14): MBConvBlock(\n",
            "        (_expand_conv): Conv2dStaticSamePadding(\n",
            "          112, 672, kernel_size=(1, 1), stride=(1, 1), bias=False\n",
            "          (static_padding): Identity()\n",
            "        )\n",
            "        (_bn0): BatchNorm2d(672, eps=0.001, momentum=0.010000000000000009, affine=True, track_running_stats=True)\n",
            "        (_depthwise_conv): Conv2dStaticSamePadding(\n",
            "          672, 672, kernel_size=(5, 5), stride=(1, 1), groups=672, bias=False\n",
            "          (static_padding): ZeroPad2d(padding=(2, 2, 2, 2), value=0.0)\n",
            "        )\n",
            "        (_bn1): BatchNorm2d(672, eps=0.001, momentum=0.010000000000000009, affine=True, track_running_stats=True)\n",
            "        (_se_reduce): Conv2dStaticSamePadding(\n",
            "          672, 28, kernel_size=(1, 1), stride=(1, 1)\n",
            "          (static_padding): Identity()\n",
            "        )\n",
            "        (_se_expand): Conv2dStaticSamePadding(\n",
            "          28, 672, kernel_size=(1, 1), stride=(1, 1)\n",
            "          (static_padding): Identity()\n",
            "        )\n",
            "        (_project_conv): Conv2dStaticSamePadding(\n",
            "          672, 112, kernel_size=(1, 1), stride=(1, 1), bias=False\n",
            "          (static_padding): Identity()\n",
            "        )\n",
            "        (_bn2): BatchNorm2d(112, eps=0.001, momentum=0.010000000000000009, affine=True, track_running_stats=True)\n",
            "        (_swish): MemoryEfficientSwish()\n",
            "      )\n",
            "      (15): MBConvBlock(\n",
            "        (_expand_conv): Conv2dStaticSamePadding(\n",
            "          112, 672, kernel_size=(1, 1), stride=(1, 1), bias=False\n",
            "          (static_padding): Identity()\n",
            "        )\n",
            "        (_bn0): BatchNorm2d(672, eps=0.001, momentum=0.010000000000000009, affine=True, track_running_stats=True)\n",
            "        (_depthwise_conv): Conv2dStaticSamePadding(\n",
            "          672, 672, kernel_size=(5, 5), stride=(1, 1), groups=672, bias=False\n",
            "          (static_padding): ZeroPad2d(padding=(2, 2, 2, 2), value=0.0)\n",
            "        )\n",
            "        (_bn1): BatchNorm2d(672, eps=0.001, momentum=0.010000000000000009, affine=True, track_running_stats=True)\n",
            "        (_se_reduce): Conv2dStaticSamePadding(\n",
            "          672, 28, kernel_size=(1, 1), stride=(1, 1)\n",
            "          (static_padding): Identity()\n",
            "        )\n",
            "        (_se_expand): Conv2dStaticSamePadding(\n",
            "          28, 672, kernel_size=(1, 1), stride=(1, 1)\n",
            "          (static_padding): Identity()\n",
            "        )\n",
            "        (_project_conv): Conv2dStaticSamePadding(\n",
            "          672, 112, kernel_size=(1, 1), stride=(1, 1), bias=False\n",
            "          (static_padding): Identity()\n",
            "        )\n",
            "        (_bn2): BatchNorm2d(112, eps=0.001, momentum=0.010000000000000009, affine=True, track_running_stats=True)\n",
            "        (_swish): MemoryEfficientSwish()\n",
            "      )\n",
            "      (16): MBConvBlock(\n",
            "        (_expand_conv): Conv2dStaticSamePadding(\n",
            "          112, 672, kernel_size=(1, 1), stride=(1, 1), bias=False\n",
            "          (static_padding): Identity()\n",
            "        )\n",
            "        (_bn0): BatchNorm2d(672, eps=0.001, momentum=0.010000000000000009, affine=True, track_running_stats=True)\n",
            "        (_depthwise_conv): Conv2dStaticSamePadding(\n",
            "          672, 672, kernel_size=(5, 5), stride=[2, 2], groups=672, bias=False\n",
            "          (static_padding): ZeroPad2d(padding=(2, 2, 2, 2), value=0.0)\n",
            "        )\n",
            "        (_bn1): BatchNorm2d(672, eps=0.001, momentum=0.010000000000000009, affine=True, track_running_stats=True)\n",
            "        (_se_reduce): Conv2dStaticSamePadding(\n",
            "          672, 28, kernel_size=(1, 1), stride=(1, 1)\n",
            "          (static_padding): Identity()\n",
            "        )\n",
            "        (_se_expand): Conv2dStaticSamePadding(\n",
            "          28, 672, kernel_size=(1, 1), stride=(1, 1)\n",
            "          (static_padding): Identity()\n",
            "        )\n",
            "        (_project_conv): Conv2dStaticSamePadding(\n",
            "          672, 192, kernel_size=(1, 1), stride=(1, 1), bias=False\n",
            "          (static_padding): Identity()\n",
            "        )\n",
            "        (_bn2): BatchNorm2d(192, eps=0.001, momentum=0.010000000000000009, affine=True, track_running_stats=True)\n",
            "        (_swish): MemoryEfficientSwish()\n",
            "      )\n",
            "      (17): MBConvBlock(\n",
            "        (_expand_conv): Conv2dStaticSamePadding(\n",
            "          192, 1152, kernel_size=(1, 1), stride=(1, 1), bias=False\n",
            "          (static_padding): Identity()\n",
            "        )\n",
            "        (_bn0): BatchNorm2d(1152, eps=0.001, momentum=0.010000000000000009, affine=True, track_running_stats=True)\n",
            "        (_depthwise_conv): Conv2dStaticSamePadding(\n",
            "          1152, 1152, kernel_size=(5, 5), stride=(1, 1), groups=1152, bias=False\n",
            "          (static_padding): ZeroPad2d(padding=(2, 2, 2, 2), value=0.0)\n",
            "        )\n",
            "        (_bn1): BatchNorm2d(1152, eps=0.001, momentum=0.010000000000000009, affine=True, track_running_stats=True)\n",
            "        (_se_reduce): Conv2dStaticSamePadding(\n",
            "          1152, 48, kernel_size=(1, 1), stride=(1, 1)\n",
            "          (static_padding): Identity()\n",
            "        )\n",
            "        (_se_expand): Conv2dStaticSamePadding(\n",
            "          48, 1152, kernel_size=(1, 1), stride=(1, 1)\n",
            "          (static_padding): Identity()\n",
            "        )\n",
            "        (_project_conv): Conv2dStaticSamePadding(\n",
            "          1152, 192, kernel_size=(1, 1), stride=(1, 1), bias=False\n",
            "          (static_padding): Identity()\n",
            "        )\n",
            "        (_bn2): BatchNorm2d(192, eps=0.001, momentum=0.010000000000000009, affine=True, track_running_stats=True)\n",
            "        (_swish): MemoryEfficientSwish()\n",
            "      )\n",
            "      (18): MBConvBlock(\n",
            "        (_expand_conv): Conv2dStaticSamePadding(\n",
            "          192, 1152, kernel_size=(1, 1), stride=(1, 1), bias=False\n",
            "          (static_padding): Identity()\n",
            "        )\n",
            "        (_bn0): BatchNorm2d(1152, eps=0.001, momentum=0.010000000000000009, affine=True, track_running_stats=True)\n",
            "        (_depthwise_conv): Conv2dStaticSamePadding(\n",
            "          1152, 1152, kernel_size=(5, 5), stride=(1, 1), groups=1152, bias=False\n",
            "          (static_padding): ZeroPad2d(padding=(2, 2, 2, 2), value=0.0)\n",
            "        )\n",
            "        (_bn1): BatchNorm2d(1152, eps=0.001, momentum=0.010000000000000009, affine=True, track_running_stats=True)\n",
            "        (_se_reduce): Conv2dStaticSamePadding(\n",
            "          1152, 48, kernel_size=(1, 1), stride=(1, 1)\n",
            "          (static_padding): Identity()\n",
            "        )\n",
            "        (_se_expand): Conv2dStaticSamePadding(\n",
            "          48, 1152, kernel_size=(1, 1), stride=(1, 1)\n",
            "          (static_padding): Identity()\n",
            "        )\n",
            "        (_project_conv): Conv2dStaticSamePadding(\n",
            "          1152, 192, kernel_size=(1, 1), stride=(1, 1), bias=False\n",
            "          (static_padding): Identity()\n",
            "        )\n",
            "        (_bn2): BatchNorm2d(192, eps=0.001, momentum=0.010000000000000009, affine=True, track_running_stats=True)\n",
            "        (_swish): MemoryEfficientSwish()\n",
            "      )\n",
            "      (19): MBConvBlock(\n",
            "        (_expand_conv): Conv2dStaticSamePadding(\n",
            "          192, 1152, kernel_size=(1, 1), stride=(1, 1), bias=False\n",
            "          (static_padding): Identity()\n",
            "        )\n",
            "        (_bn0): BatchNorm2d(1152, eps=0.001, momentum=0.010000000000000009, affine=True, track_running_stats=True)\n",
            "        (_depthwise_conv): Conv2dStaticSamePadding(\n",
            "          1152, 1152, kernel_size=(5, 5), stride=(1, 1), groups=1152, bias=False\n",
            "          (static_padding): ZeroPad2d(padding=(2, 2, 2, 2), value=0.0)\n",
            "        )\n",
            "        (_bn1): BatchNorm2d(1152, eps=0.001, momentum=0.010000000000000009, affine=True, track_running_stats=True)\n",
            "        (_se_reduce): Conv2dStaticSamePadding(\n",
            "          1152, 48, kernel_size=(1, 1), stride=(1, 1)\n",
            "          (static_padding): Identity()\n",
            "        )\n",
            "        (_se_expand): Conv2dStaticSamePadding(\n",
            "          48, 1152, kernel_size=(1, 1), stride=(1, 1)\n",
            "          (static_padding): Identity()\n",
            "        )\n",
            "        (_project_conv): Conv2dStaticSamePadding(\n",
            "          1152, 192, kernel_size=(1, 1), stride=(1, 1), bias=False\n",
            "          (static_padding): Identity()\n",
            "        )\n",
            "        (_bn2): BatchNorm2d(192, eps=0.001, momentum=0.010000000000000009, affine=True, track_running_stats=True)\n",
            "        (_swish): MemoryEfficientSwish()\n",
            "      )\n",
            "      (20): MBConvBlock(\n",
            "        (_expand_conv): Conv2dStaticSamePadding(\n",
            "          192, 1152, kernel_size=(1, 1), stride=(1, 1), bias=False\n",
            "          (static_padding): Identity()\n",
            "        )\n",
            "        (_bn0): BatchNorm2d(1152, eps=0.001, momentum=0.010000000000000009, affine=True, track_running_stats=True)\n",
            "        (_depthwise_conv): Conv2dStaticSamePadding(\n",
            "          1152, 1152, kernel_size=(5, 5), stride=(1, 1), groups=1152, bias=False\n",
            "          (static_padding): ZeroPad2d(padding=(2, 2, 2, 2), value=0.0)\n",
            "        )\n",
            "        (_bn1): BatchNorm2d(1152, eps=0.001, momentum=0.010000000000000009, affine=True, track_running_stats=True)\n",
            "        (_se_reduce): Conv2dStaticSamePadding(\n",
            "          1152, 48, kernel_size=(1, 1), stride=(1, 1)\n",
            "          (static_padding): Identity()\n",
            "        )\n",
            "        (_se_expand): Conv2dStaticSamePadding(\n",
            "          48, 1152, kernel_size=(1, 1), stride=(1, 1)\n",
            "          (static_padding): Identity()\n",
            "        )\n",
            "        (_project_conv): Conv2dStaticSamePadding(\n",
            "          1152, 192, kernel_size=(1, 1), stride=(1, 1), bias=False\n",
            "          (static_padding): Identity()\n",
            "        )\n",
            "        (_bn2): BatchNorm2d(192, eps=0.001, momentum=0.010000000000000009, affine=True, track_running_stats=True)\n",
            "        (_swish): MemoryEfficientSwish()\n",
            "      )\n",
            "      (21): MBConvBlock(\n",
            "        (_expand_conv): Conv2dStaticSamePadding(\n",
            "          192, 1152, kernel_size=(1, 1), stride=(1, 1), bias=False\n",
            "          (static_padding): Identity()\n",
            "        )\n",
            "        (_bn0): BatchNorm2d(1152, eps=0.001, momentum=0.010000000000000009, affine=True, track_running_stats=True)\n",
            "        (_depthwise_conv): Conv2dStaticSamePadding(\n",
            "          1152, 1152, kernel_size=(3, 3), stride=[1, 1], groups=1152, bias=False\n",
            "          (static_padding): ZeroPad2d(padding=(1, 1, 1, 1), value=0.0)\n",
            "        )\n",
            "        (_bn1): BatchNorm2d(1152, eps=0.001, momentum=0.010000000000000009, affine=True, track_running_stats=True)\n",
            "        (_se_reduce): Conv2dStaticSamePadding(\n",
            "          1152, 48, kernel_size=(1, 1), stride=(1, 1)\n",
            "          (static_padding): Identity()\n",
            "        )\n",
            "        (_se_expand): Conv2dStaticSamePadding(\n",
            "          48, 1152, kernel_size=(1, 1), stride=(1, 1)\n",
            "          (static_padding): Identity()\n",
            "        )\n",
            "        (_project_conv): Conv2dStaticSamePadding(\n",
            "          1152, 320, kernel_size=(1, 1), stride=(1, 1), bias=False\n",
            "          (static_padding): Identity()\n",
            "        )\n",
            "        (_bn2): BatchNorm2d(320, eps=0.001, momentum=0.010000000000000009, affine=True, track_running_stats=True)\n",
            "        (_swish): MemoryEfficientSwish()\n",
            "      )\n",
            "      (22): MBConvBlock(\n",
            "        (_expand_conv): Conv2dStaticSamePadding(\n",
            "          320, 1920, kernel_size=(1, 1), stride=(1, 1), bias=False\n",
            "          (static_padding): Identity()\n",
            "        )\n",
            "        (_bn0): BatchNorm2d(1920, eps=0.001, momentum=0.010000000000000009, affine=True, track_running_stats=True)\n",
            "        (_depthwise_conv): Conv2dStaticSamePadding(\n",
            "          1920, 1920, kernel_size=(3, 3), stride=(1, 1), groups=1920, bias=False\n",
            "          (static_padding): ZeroPad2d(padding=(1, 1, 1, 1), value=0.0)\n",
            "        )\n",
            "        (_bn1): BatchNorm2d(1920, eps=0.001, momentum=0.010000000000000009, affine=True, track_running_stats=True)\n",
            "        (_se_reduce): Conv2dStaticSamePadding(\n",
            "          1920, 80, kernel_size=(1, 1), stride=(1, 1)\n",
            "          (static_padding): Identity()\n",
            "        )\n",
            "        (_se_expand): Conv2dStaticSamePadding(\n",
            "          80, 1920, kernel_size=(1, 1), stride=(1, 1)\n",
            "          (static_padding): Identity()\n",
            "        )\n",
            "        (_project_conv): Conv2dStaticSamePadding(\n",
            "          1920, 320, kernel_size=(1, 1), stride=(1, 1), bias=False\n",
            "          (static_padding): Identity()\n",
            "        )\n",
            "        (_bn2): BatchNorm2d(320, eps=0.001, momentum=0.010000000000000009, affine=True, track_running_stats=True)\n",
            "        (_swish): MemoryEfficientSwish()\n",
            "      )\n",
            "    )\n",
            "    (_conv_head): Conv2dStaticSamePadding(\n",
            "      320, 1280, kernel_size=(1, 1), stride=(1, 1), bias=False\n",
            "      (static_padding): Identity()\n",
            "    )\n",
            "    (_bn1): BatchNorm2d(1280, eps=0.001, momentum=0.010000000000000009, affine=True, track_running_stats=True)\n",
            "    (_avg_pooling): AdaptiveAvgPool2d(output_size=1)\n",
            "    (_dropout): Dropout(p=0.2, inplace=False)\n",
            "    (_fc): Linear(in_features=1280, out_features=9, bias=True)\n",
            "    (_swish): MemoryEfficientSwish()\n",
            "  )\n",
            ")\n"
          ],
          "name": "stdout"
        }
      ]
    },
    {
      "cell_type": "markdown",
      "metadata": {
        "id": "aH06HZoV8JQ6"
      },
      "source": [
        "### Evaluate and update function"
      ]
    },
    {
      "cell_type": "code",
      "metadata": {
        "id": "5x4vM4-TT_Zb"
      },
      "source": [
        "def get_error(network, dataloader, loss):\n",
        "  for x, y in dataloader:\n",
        "    x, y = x.to(device), y.to(device)\n",
        "    \n",
        "    y_pred = network(x)\n",
        "    err = loss(y_pred, y)\n",
        "    del(x, y)\n",
        "    yield err"
      ],
      "execution_count": 29,
      "outputs": []
    },
    {
      "cell_type": "code",
      "metadata": {
        "id": "HV9uJqI3RVIC"
      },
      "source": [
        "@torch.no_grad()\n",
        "def evaluate(network, dataloader, loss, epoch):\n",
        "\n",
        "  network.eval()\n",
        "  errors = []\n",
        "\n",
        "  with tqdm(get_error(network, dataloader, loss), leave=True, unit=\" batches\", position=0, total=len(dataloader)) as pbar:\n",
        "    for i, err in enumerate(pbar):\n",
        "      n_batches = len(pbar)\n",
        "      pbar.set_description('epoch {}: validation loss {}'.format(epoch, round(err.item(), 4)))\n",
        "      errors.append(err.item())\n",
        "\n",
        "      if i == n_batches-1:\n",
        "        mean_err = sum(errors) / len(errors)\n",
        "        pbar.set_description('epoch {}: mean validation loss {}'.format(epoch, round(mean_err, 4)))\n",
        "  pbar.close()\n",
        "  return mean_err"
      ],
      "execution_count": 30,
      "outputs": []
    },
    {
      "cell_type": "code",
      "metadata": {
        "id": "Y4-KCUy8UDXn"
      },
      "source": [
        "@torch.enable_grad()\n",
        "def update(network, dataloader, loss, opt, epoch):\n",
        "  network.train()\n",
        "  errors = []\n",
        "\n",
        "  with tqdm(get_error(network, dataloader, loss), leave=True, unit=\" batches\", position=0, total=len(dataloader)) as pbar:\n",
        "    n_batches = len(pbar)\n",
        "    for i, err in enumerate(pbar):\n",
        "      network.zero_grad()\n",
        "      err.backward()\n",
        "      opt.step()\n",
        "\n",
        "      pbar.set_description('epoch {}: training loss {}'.format(epoch, round(err.item(), 4)))\n",
        "      errors.append(err.item())\n",
        "\n",
        "      if i == n_batches-1:\n",
        "        mean_err = sum(errors) / len(errors)\n",
        "        pbar.set_description('epoch {}: mean training loss {}'.format(epoch, round(mean_err, 4)))\n",
        "\n",
        "  pbar.close()\n",
        "  return mean_err"
      ],
      "execution_count": 31,
      "outputs": []
    },
    {
      "cell_type": "markdown",
      "metadata": {
        "id": "xlumabeObET7"
      },
      "source": [
        "# Training"
      ]
    },
    {
      "cell_type": "code",
      "metadata": {
        "id": "1JmiuDI8auAy"
      },
      "source": [
        "# Parameters\n",
        "batch_size = 64\n",
        "epochs = 30\n",
        "lr = 7e-5\n",
        "weight_decay = 1e-6"
      ],
      "execution_count": 32,
      "outputs": []
    },
    {
      "cell_type": "code",
      "metadata": {
        "colab": {
          "base_uri": "https://localhost:8080/",
          "height": 1000,
          "referenced_widgets": [
            "d8faff90ab8143b9b9a994c4f8e6aaef",
            "2e1c32314eda4fd3a9b8dee4dcd6a8a9",
            "f87b515062a840b98c5e4ff1cc058ed4",
            "7d92d3d6b83345909742782bc7e8c8f3",
            "c807d58f0bc24e23b556f591b65575ae",
            "a9ea0347d6374664a51cde37e99a4f8c",
            "c5d08bb300e04cd69884954e573c955e",
            "82756a300af74791a4708601820a597f"
          ]
        },
        "id": "3jSUcr4ZaLJE",
        "outputId": "6095b45b-9fd2-49c3-b43a-fd8e48b72be4"
      },
      "source": [
        "train_loader = DataLoader(data_train, batch_size=batch_size, shuffle=True)\n",
        "val_loader = DataLoader(data_val, batch_size=1, shuffle=True)\n",
        "\n",
        "network = network.to(device)\n",
        "\n",
        "opt = torch.optim.Adam(network.parameters(), lr=lr, weight_decay=weight_decay)\n",
        "loss = nn.CrossEntropyLoss()    \n",
        "\n",
        "train_errs, valid_errs = [], []\n",
        "for epoch in trange(epochs):\n",
        "    train_err = update(network, train_loader, loss, opt, epoch)\n",
        "    train_errs.append(train_err)\n",
        "\n",
        "    # validation\n",
        "    val_err = evaluate(network, val_loader, loss, epoch)\n",
        "    valid_errs.append(val_err)"
      ],
      "execution_count": 33,
      "outputs": [
        {
          "output_type": "stream",
          "text": [
            "Downloading: \"https://github.com/lukemelas/EfficientNet-PyTorch/releases/download/1.0/efficientnet-b1-f1951068.pth\" to /root/.cache/torch/hub/checkpoints/efficientnet-b1-f1951068.pth\n"
          ],
          "name": "stderr"
        },
        {
          "output_type": "display_data",
          "data": {
            "application/vnd.jupyter.widget-view+json": {
              "model_id": "d8faff90ab8143b9b9a994c4f8e6aaef",
              "version_minor": 0,
              "version_major": 2
            },
            "text/plain": [
              "HBox(children=(FloatProgress(value=0.0, max=31519111.0), HTML(value='')))"
            ]
          },
          "metadata": {
            "tags": []
          }
        },
        {
          "output_type": "stream",
          "text": [
            "\n",
            "Loaded pretrained weights for efficientnet-b1\n"
          ],
          "name": "stdout"
        },
        {
          "output_type": "stream",
          "text": [
            "epoch 0: mean training loss 1.8997: 100%|██████████| 106/106 [01:14<00:00,  1.42 batches/s]\n",
            "epoch 0: mean validation loss 1.6175: 100%|██████████| 2890/2890 [00:49<00:00, 58.05 batches/s]\n",
            "epoch 1: mean training loss 1.3285: 100%|██████████| 106/106 [01:14<00:00,  1.43 batches/s]\n",
            "epoch 1: mean validation loss 1.1174: 100%|██████████| 2890/2890 [00:49<00:00, 57.84 batches/s]\n",
            "epoch 2: mean training loss 0.9565: 100%|██████████| 106/106 [01:14<00:00,  1.43 batches/s]\n",
            "epoch 2: mean validation loss 0.7628: 100%|██████████| 2890/2890 [00:49<00:00, 58.02 batches/s]\n",
            "epoch 3: mean training loss 0.697: 100%|██████████| 106/106 [01:14<00:00,  1.43 batches/s]\n",
            "epoch 3: mean validation loss 0.559: 100%|██████████| 2890/2890 [00:50<00:00, 57.63 batches/s]\n",
            "epoch 4: mean training loss 0.5493: 100%|██████████| 106/106 [01:13<00:00,  1.43 batches/s]\n",
            "epoch 4: mean validation loss 0.4339: 100%|██████████| 2890/2890 [00:49<00:00, 58.03 batches/s]\n",
            "epoch 5: mean training loss 0.4498: 100%|██████████| 106/106 [01:13<00:00,  1.43 batches/s]\n",
            "epoch 5: mean validation loss 0.3964: 100%|██████████| 2890/2890 [00:49<00:00, 57.94 batches/s]\n",
            "epoch 6: mean training loss 0.3811: 100%|██████████| 106/106 [01:14<00:00,  1.43 batches/s]\n",
            "epoch 6: mean validation loss 0.3221: 100%|██████████| 2890/2890 [00:49<00:00, 58.10 batches/s]\n",
            "epoch 7: mean training loss 0.3402: 100%|██████████| 106/106 [01:14<00:00,  1.43 batches/s]\n",
            "epoch 7: mean validation loss 0.2927: 100%|██████████| 2890/2890 [00:50<00:00, 57.80 batches/s]\n",
            "epoch 8: mean training loss 0.3044: 100%|██████████| 106/106 [01:14<00:00,  1.43 batches/s]\n",
            "epoch 8: mean validation loss 0.2738: 100%|██████████| 2890/2890 [00:49<00:00, 57.82 batches/s]\n",
            "epoch 9: mean training loss 0.2662: 100%|██████████| 106/106 [01:13<00:00,  1.44 batches/s]\n",
            "epoch 9: mean validation loss 0.254: 100%|██████████| 2890/2890 [00:49<00:00, 57.87 batches/s]\n",
            "epoch 10: mean training loss 0.233: 100%|██████████| 106/106 [01:13<00:00,  1.43 batches/s]\n",
            "epoch 10: mean validation loss 0.23: 100%|██████████| 2890/2890 [00:49<00:00, 58.18 batches/s]\n",
            "epoch 11: mean training loss 0.2115: 100%|██████████| 106/106 [01:13<00:00,  1.44 batches/s]\n",
            "epoch 11: mean validation loss 0.2346: 100%|██████████| 2890/2890 [00:49<00:00, 58.09 batches/s]\n",
            "epoch 12: mean training loss 0.1867: 100%|██████████| 106/106 [01:13<00:00,  1.44 batches/s]\n",
            "epoch 12: mean validation loss 0.2036: 100%|██████████| 2890/2890 [00:49<00:00, 57.85 batches/s]\n",
            "epoch 13: mean training loss 0.1743: 100%|██████████| 106/106 [01:13<00:00,  1.44 batches/s]\n",
            "epoch 13: mean validation loss 0.2263: 100%|██████████| 2890/2890 [00:49<00:00, 57.84 batches/s]\n",
            "epoch 14: mean training loss 0.1635: 100%|██████████| 106/106 [01:13<00:00,  1.44 batches/s]\n",
            "epoch 14: mean validation loss 0.2393: 100%|██████████| 2890/2890 [00:49<00:00, 57.82 batches/s]\n",
            "epoch 15: mean training loss 0.154: 100%|██████████| 106/106 [01:13<00:00,  1.44 batches/s]\n",
            "epoch 15: mean validation loss 0.2013: 100%|██████████| 2890/2890 [00:49<00:00, 57.92 batches/s]\n",
            "epoch 16: mean training loss 0.1378: 100%|██████████| 106/106 [01:13<00:00,  1.44 batches/s]\n",
            "epoch 16: mean validation loss 0.1926: 100%|██████████| 2890/2890 [00:50<00:00, 57.68 batches/s]\n",
            "epoch 17: mean training loss 0.1331: 100%|██████████| 106/106 [01:13<00:00,  1.44 batches/s]\n",
            "epoch 17: mean validation loss 0.1746: 100%|██████████| 2890/2890 [00:50<00:00, 57.62 batches/s]\n",
            "epoch 18: mean training loss 0.1206: 100%|██████████| 106/106 [01:13<00:00,  1.44 batches/s]\n",
            "epoch 18: mean validation loss 0.1846: 100%|██████████| 2890/2890 [00:50<00:00, 57.48 batches/s]\n",
            "epoch 19: mean training loss 0.1086: 100%|██████████| 106/106 [01:13<00:00,  1.44 batches/s]\n",
            "epoch 19: mean validation loss 0.1758: 100%|██████████| 2890/2890 [00:49<00:00, 57.82 batches/s]\n",
            "epoch 20: mean training loss 0.1057: 100%|██████████| 106/106 [01:13<00:00,  1.44 batches/s]\n",
            "epoch 20: mean validation loss 0.1954: 100%|██████████| 2890/2890 [00:50<00:00, 57.61 batches/s]\n",
            "epoch 21: mean training loss 0.0935: 100%|██████████| 106/106 [01:13<00:00,  1.44 batches/s]\n",
            "epoch 21: mean validation loss 0.1546: 100%|██████████| 2890/2890 [00:50<00:00, 57.68 batches/s]\n",
            "epoch 22: mean training loss 0.092: 100%|██████████| 106/106 [01:13<00:00,  1.44 batches/s]\n",
            "epoch 22: mean validation loss 0.1519: 100%|██████████| 2890/2890 [00:50<00:00, 57.58 batches/s]\n",
            "epoch 23: mean training loss 0.0844: 100%|██████████| 106/106 [01:13<00:00,  1.44 batches/s]\n",
            "epoch 23: mean validation loss 0.1498: 100%|██████████| 2890/2890 [00:50<00:00, 57.62 batches/s]\n",
            "epoch 24: mean training loss 0.0779: 100%|██████████| 106/106 [01:13<00:00,  1.45 batches/s]\n",
            "epoch 24: mean validation loss 0.1527: 100%|██████████| 2890/2890 [00:50<00:00, 57.32 batches/s]\n",
            "epoch 25: mean training loss 0.0833: 100%|██████████| 106/106 [01:13<00:00,  1.44 batches/s]\n",
            "epoch 25: mean validation loss 0.1675: 100%|██████████| 2890/2890 [00:50<00:00, 57.63 batches/s]\n",
            "epoch 26: mean training loss 0.0792: 100%|██████████| 106/106 [01:13<00:00,  1.44 batches/s]\n",
            "epoch 26: mean validation loss 0.1518: 100%|██████████| 2890/2890 [00:50<00:00, 57.61 batches/s]\n",
            "epoch 27: mean training loss 0.064: 100%|██████████| 106/106 [01:13<00:00,  1.44 batches/s]\n",
            "epoch 27: mean validation loss 0.1491: 100%|██████████| 2890/2890 [00:50<00:00, 57.61 batches/s]\n",
            "epoch 28: mean training loss 0.061: 100%|██████████| 106/106 [01:13<00:00,  1.44 batches/s]\n",
            "epoch 28: mean validation loss 0.1789: 100%|██████████| 2890/2890 [00:50<00:00, 57.13 batches/s]\n",
            "epoch 29: mean training loss 0.0609: 100%|██████████| 106/106 [01:13<00:00,  1.44 batches/s]\n",
            "epoch 29: mean validation loss 0.1473: 100%|██████████| 2890/2890 [00:50<00:00, 57.05 batches/s]\n",
            "100%|██████████| 30/30 [1:01:54<00:00, 123.82s/it]\n"
          ],
          "name": "stderr"
        }
      ]
    },
    {
      "cell_type": "code",
      "metadata": {
        "colab": {
          "base_uri": "https://localhost:8080/",
          "height": 334
        },
        "id": "ufWYYI0Y331l",
        "outputId": "5dccaeba-d1b3-413f-d68e-12a5e11d61cd"
      },
      "source": [
        "plot_metrics(train_errs, valid_errs)"
      ],
      "execution_count": 34,
      "outputs": [
        {
          "output_type": "display_data",
          "data": {
            "image/png": "[encoded data removed]",
            "text/plain": [
              "<Figure size 1440x360 with 1 Axes>"
            ]
          },
          "metadata": {
            "tags": [],
            "needs_background": "light"
          }
        }
      ]
    },
    {
      "cell_type": "markdown",
      "metadata": {
        "id": "vJXM0mkJEruK"
      },
      "source": [
        "### Check balanced accuracy score on validation set"
      ]
    },
    {
      "cell_type": "code",
      "metadata": {
        "id": "iAY9c6LLlEeM",
        "colab": {
          "base_uri": "https://localhost:8080/"
        },
        "outputId": "67d493ad-9b24-435b-8e61-683683d6b982"
      },
      "source": [
        "# get local balanced accuracy score\n",
        "predictions = []\n",
        "targets = []\n",
        "for x, y in val_loader:\n",
        "  x = x.to(device) \n",
        "  prediction = network(x)\n",
        "  p = F.softmax(prediction, dim=1)\n",
        "  prediction = torch.max(p, 1)[1].cpu().numpy()\n",
        "  predictions.append(prediction)\n",
        "  targets.append(y)\n",
        "\n",
        "balanced_accuracy_score(torch.Tensor(targets), torch.Tensor(predictions)) "
      ],
      "execution_count": 35,
      "outputs": [
        {
          "output_type": "execute_result",
          "data": {
            "text/plain": [
              "0.9433327418966875"
            ]
          },
          "metadata": {
            "tags": []
          },
          "execution_count": 35
        }
      ]
    },
    {
      "cell_type": "markdown",
      "metadata": {
        "id": "2gYbsZ-wlFmF"
      },
      "source": [
        "# Submission"
      ]
    },
    {
      "cell_type": "code",
      "metadata": {
        "colab": {
          "base_uri": "https://localhost:8080/"
        },
        "id": "HEmcLSuBlj6U",
        "outputId": "6da7ed2a-377a-4d20-b635-e679c18e7c80"
      },
      "source": [
        "# create submission dataloader\n",
        "data_sub = ImageDataset(path, transform_val, submission=True)\n",
        "sub_loader = DataLoader(data_sub, batch_size=1, shuffle=False)"
      ],
      "execution_count": 36,
      "outputs": [
        {
          "output_type": "stream",
          "text": [
            "100%|██████████| 6869/6869 [00:03<00:00, 1815.58it/s]\n"
          ],
          "name": "stderr"
        }
      ]
    },
    {
      "cell_type": "code",
      "metadata": {
        "id": "1x-p0-CLKMXx"
      },
      "source": [
        "# get predictions for each sample in sub_loader\n",
        "predictions = []\n",
        "for x, _ in sub_loader:\n",
        "  x = x.to(device) \n",
        "  prediction = network(x)\n",
        "  p = F.softmax(prediction, dim=1)\n",
        "  prediction = torch.max(p, 1)[1].cpu().numpy()\n",
        "  predictions.append(prediction)\n",
        "\n",
        "prediction_tokens= [int(i[0]) for i in torch.Tensor(predictions).tolist()]\n",
        "prediction_labels = [data_sub.token2label[token] for token in prediction_tokens]"
      ],
      "execution_count": 37,
      "outputs": []
    },
    {
      "cell_type": "code",
      "metadata": {
        "colab": {
          "base_uri": "https://localhost:8080/",
          "height": 517
        },
        "id": "rMNozCqfCplt",
        "outputId": "a9fd0c55-377c-424b-f09d-aa5811b22dde"
      },
      "source": [
        "# visual check of label distributions\n",
        "f, (ax1, ax2) = plt.subplots(2, 1, figsize=(8, 8))\n",
        "ax1.hist(data_train.labels + data_val.labels, 9);\n",
        "ax1.set_title('distribution of train & val labels')\n",
        "ax2.hist(torch.Tensor(prediction_tokens), 9);\n",
        "ax2.set_title('distribution of submission labels')"
      ],
      "execution_count": 38,
      "outputs": [
        {
          "output_type": "execute_result",
          "data": {
            "text/plain": [
              "Text(0.5, 1.0, 'distribution of submission labels')"
            ]
          },
          "metadata": {
            "tags": []
          },
          "execution_count": 38
        },
        {
          "output_type": "display_data",
          "data": {
            "image/png": "[encoded data removed]",
            "text/plain": [
              "<Figure size 576x576 with 2 Axes>"
            ]
          },
          "metadata": {
            "tags": [],
            "needs_background": "light"
          }
        }
      ]
    },
    {
      "cell_type": "code",
      "metadata": {
        "colab": {
          "base_uri": "https://localhost:8080/",
          "height": 454
        },
        "id": "pT-AfqZwDWfN",
        "outputId": "9abf4a66-ab49-4c69-f6b1-9f0b79ed0a91"
      },
      "source": [
        "# save .csv file\n",
        "df = pd.DataFrame(prediction_labels, index=data_sub.file_ids, columns =['cell_line']).rename_axis('file_id')\n",
        "df.to_csv('submission.csv')\n",
        "df"
      ],
      "execution_count": 39,
      "outputs": [
        {
          "output_type": "execute_result",
          "data": {
            "text/html": [
              "<div>\n",
              "<style scoped>\n",
              "    .dataframe tbody tr th:only-of-type {\n",
              "        vertical-align: middle;\n",
              "    }\n",
              "\n",
              "    .dataframe tbody tr th {\n",
              "        vertical-align: top;\n",
              "    }\n",
              "\n",
              "    .dataframe thead th {\n",
              "        text-align: right;\n",
              "    }\n",
              "</style>\n",
              "<table border=\"1\" class=\"dataframe\">\n",
              "  <thead>\n",
              "    <tr style=\"text-align: right;\">\n",
              "      <th></th>\n",
              "      <th>cell_line</th>\n",
              "    </tr>\n",
              "    <tr>\n",
              "      <th>file_id</th>\n",
              "      <th></th>\n",
              "    </tr>\n",
              "  </thead>\n",
              "  <tbody>\n",
              "    <tr>\n",
              "      <th>9633</th>\n",
              "      <td>U-251 MG</td>\n",
              "    </tr>\n",
              "    <tr>\n",
              "      <th>9634</th>\n",
              "      <td>CACO-2</td>\n",
              "    </tr>\n",
              "    <tr>\n",
              "      <th>9635</th>\n",
              "      <td>CACO-2</td>\n",
              "    </tr>\n",
              "    <tr>\n",
              "      <th>9636</th>\n",
              "      <td>MCF7</td>\n",
              "    </tr>\n",
              "    <tr>\n",
              "      <th>9637</th>\n",
              "      <td>HEK 293</td>\n",
              "    </tr>\n",
              "    <tr>\n",
              "      <th>...</th>\n",
              "      <td>...</td>\n",
              "    </tr>\n",
              "    <tr>\n",
              "      <th>16497</th>\n",
              "      <td>HEK 293</td>\n",
              "    </tr>\n",
              "    <tr>\n",
              "      <th>16498</th>\n",
              "      <td>HEK 293</td>\n",
              "    </tr>\n",
              "    <tr>\n",
              "      <th>16499</th>\n",
              "      <td>RT4</td>\n",
              "    </tr>\n",
              "    <tr>\n",
              "      <th>16500</th>\n",
              "      <td>CACO-2</td>\n",
              "    </tr>\n",
              "    <tr>\n",
              "      <th>16501</th>\n",
              "      <td>MCF7</td>\n",
              "    </tr>\n",
              "  </tbody>\n",
              "</table>\n",
              "<p>6869 rows × 1 columns</p>\n",
              "</div>"
            ],
            "text/plain": [
              "        cell_line\n",
              "file_id          \n",
              "9633     U-251 MG\n",
              "9634       CACO-2\n",
              "9635       CACO-2\n",
              "9636         MCF7\n",
              "9637      HEK 293\n",
              "...           ...\n",
              "16497     HEK 293\n",
              "16498     HEK 293\n",
              "16499         RT4\n",
              "16500      CACO-2\n",
              "16501        MCF7\n",
              "\n",
              "[6869 rows x 1 columns]"
            ]
          },
          "metadata": {
            "tags": []
          },
          "execution_count": 39
        }
      ]
    },
    {
      "cell_type": "code",
      "metadata": {
        "id": "WI9qLw0dijq2"
      },
      "source": [
        ""
      ],
      "execution_count": null,
      "outputs": []
    }
  ]
}